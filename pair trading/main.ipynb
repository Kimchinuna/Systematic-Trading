{
 "cells": [
  {
   "cell_type": "code",
   "execution_count": 1,
   "metadata": {
    "collapsed": true,
    "ExecuteTime": {
     "start_time": "2023-06-04T21:07:47.773858Z",
     "end_time": "2023-06-04T21:07:54.590440Z"
    }
   },
   "outputs": [],
   "source": [
    "from data_fetching.fetch_data import get_most_active_stocks, fetch_data\n",
    "from data_fetching.find_pairs import find_cointegrated_pairs\n",
    "from backtesting.pairs_strategy import PairsTradingStrategy\n",
    "from backtesting.backtest_pairs import backtest\n",
    "from analysis.plot_results import plot_results"
   ]
  },
  {
   "cell_type": "code",
   "execution_count": null,
   "outputs": [],
   "source": [
    "def main():\n",
    "    # Fetch data\n",
    "    tickers = get_most_active_stocks('nasdaq', 20)  # fetch top 20 most active stocks on NASDAQ\n",
    "    start_date = '2022-01-01'\n",
    "    end_date = '2023-12-31'\n",
    "    data = fetch_data(tickers, start_date, end_date)\n",
    "\n",
    "    # Find cointegrated pairs\n",
    "    scores, pvalues, pairs = find_cointegrated_pairs(data)\n",
    "    print('Cointegrated pairs:', pairs)\n",
    "\n",
    "    # Backtest pairs trading strategy for the first 5 pairs\n",
    "    for pair in pairs[:5]:\n",
    "        data1 = data[pair[0]]\n",
    "        data2 = data[pair[1]]\n",
    "        cerebro = backtest(data1, data2, PairsTradingStrategy)\n",
    "\n",
    "        # Plot the results for each pair using the analysis module\n",
    "        plot_results(cerebro)\n",
    "\n",
    "if __name__ == '__main__':\n",
    "    main()"
   ],
   "metadata": {
    "collapsed": false
   }
  }
 ],
 "metadata": {
  "kernelspec": {
   "display_name": "Python 3",
   "language": "python",
   "name": "python3"
  },
  "language_info": {
   "codemirror_mode": {
    "name": "ipython",
    "version": 2
   },
   "file_extension": ".py",
   "mimetype": "text/x-python",
   "name": "python",
   "nbconvert_exporter": "python",
   "pygments_lexer": "ipython2",
   "version": "2.7.6"
  }
 },
 "nbformat": 4,
 "nbformat_minor": 0
}
